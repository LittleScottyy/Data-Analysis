{
 "cells": [
  {
   "cell_type": "code",
   "execution_count": 1,
   "id": "b65d24b3",
   "metadata": {
    "_cell_guid": "b1076dfc-b9ad-4769-8c92-a6c4dae69d19",
    "_uuid": "8f2839f25d086af736a60e9eeb907d3b93b6e0e5",
    "execution": {
     "iopub.execute_input": "2024-09-23T04:07:58.226201Z",
     "iopub.status.busy": "2024-09-23T04:07:58.225675Z",
     "iopub.status.idle": "2024-09-23T04:08:00.939649Z",
     "shell.execute_reply": "2024-09-23T04:08:00.938542Z"
    },
    "papermill": {
     "duration": 2.730486,
     "end_time": "2024-09-23T04:08:00.942327",
     "exception": false,
     "start_time": "2024-09-23T04:07:58.211841",
     "status": "completed"
    },
    "tags": []
   },
   "outputs": [
    {
     "name": "stdout",
     "output_type": "stream",
     "text": [
      "['digit-recognizer']\n"
     ]
    }
   ],
   "source": [
    "import numpy as np # linear algebra\n",
    "import pandas as pd # data processing, CSV file I/O\n",
    "import seaborn as sns\n",
    "import matplotlib.pyplot as plt\n",
    "\n",
    "import warnings\n",
    "warnings.filterwarnings('ignore')\n",
    "\n",
    "# Input data files are available in the \"../input/\" directory.\n",
    "# For example, running this (by clicking run or pressing Shift+Enter) will list the files in the input directory\n",
    "\n",
    "import os\n",
    "print(os.listdir(\"../input\"))\n",
    "\n",
    "# Any results you write to the current directory are saved as output."
   ]
  },
  {
   "cell_type": "markdown",
   "id": "11783a78",
   "metadata": {
    "papermill": {
     "duration": 0.010077,
     "end_time": "2024-09-23T04:08:00.963242",
     "exception": false,
     "start_time": "2024-09-23T04:08:00.953165",
     "status": "completed"
    },
    "tags": []
   },
   "source": [
    "## Loading the dataset"
   ]
  },
  {
   "cell_type": "code",
   "execution_count": 2,
   "id": "8515fe8d",
   "metadata": {
    "execution": {
     "iopub.execute_input": "2024-09-23T04:08:00.986268Z",
     "iopub.status.busy": "2024-09-23T04:08:00.985532Z",
     "iopub.status.idle": "2024-09-23T04:08:05.739143Z",
     "shell.execute_reply": "2024-09-23T04:08:05.737912Z"
    },
    "papermill": {
     "duration": 4.768822,
     "end_time": "2024-09-23T04:08:05.742461",
     "exception": false,
     "start_time": "2024-09-23T04:08:00.973639",
     "status": "completed"
    },
    "tags": []
   },
   "outputs": [
    {
     "name": "stdout",
     "output_type": "stream",
     "text": [
      "(42000, 785)\n",
      "label       int64\n",
      "pixel0      int64\n",
      "pixel1      int64\n",
      "pixel2      int64\n",
      "pixel3      int64\n",
      "            ...  \n",
      "pixel779    int64\n",
      "pixel780    int64\n",
      "pixel781    int64\n",
      "pixel782    int64\n",
      "pixel783    int64\n",
      "Length: 785, dtype: object\n"
     ]
    },
    {
     "data": {
      "text/html": [
       "<div>\n",
       "<style scoped>\n",
       "    .dataframe tbody tr th:only-of-type {\n",
       "        vertical-align: middle;\n",
       "    }\n",
       "\n",
       "    .dataframe tbody tr th {\n",
       "        vertical-align: top;\n",
       "    }\n",
       "\n",
       "    .dataframe thead th {\n",
       "        text-align: right;\n",
       "    }\n",
       "</style>\n",
       "<table border=\"1\" class=\"dataframe\">\n",
       "  <thead>\n",
       "    <tr style=\"text-align: right;\">\n",
       "      <th></th>\n",
       "      <th>label</th>\n",
       "      <th>pixel0</th>\n",
       "      <th>pixel1</th>\n",
       "      <th>pixel2</th>\n",
       "      <th>pixel3</th>\n",
       "      <th>pixel4</th>\n",
       "      <th>pixel5</th>\n",
       "      <th>pixel6</th>\n",
       "      <th>pixel7</th>\n",
       "      <th>pixel8</th>\n",
       "      <th>...</th>\n",
       "      <th>pixel774</th>\n",
       "      <th>pixel775</th>\n",
       "      <th>pixel776</th>\n",
       "      <th>pixel777</th>\n",
       "      <th>pixel778</th>\n",
       "      <th>pixel779</th>\n",
       "      <th>pixel780</th>\n",
       "      <th>pixel781</th>\n",
       "      <th>pixel782</th>\n",
       "      <th>pixel783</th>\n",
       "    </tr>\n",
       "  </thead>\n",
       "  <tbody>\n",
       "    <tr>\n",
       "      <th>0</th>\n",
       "      <td>1</td>\n",
       "      <td>0</td>\n",
       "      <td>0</td>\n",
       "      <td>0</td>\n",
       "      <td>0</td>\n",
       "      <td>0</td>\n",
       "      <td>0</td>\n",
       "      <td>0</td>\n",
       "      <td>0</td>\n",
       "      <td>0</td>\n",
       "      <td>...</td>\n",
       "      <td>0</td>\n",
       "      <td>0</td>\n",
       "      <td>0</td>\n",
       "      <td>0</td>\n",
       "      <td>0</td>\n",
       "      <td>0</td>\n",
       "      <td>0</td>\n",
       "      <td>0</td>\n",
       "      <td>0</td>\n",
       "      <td>0</td>\n",
       "    </tr>\n",
       "    <tr>\n",
       "      <th>1</th>\n",
       "      <td>0</td>\n",
       "      <td>0</td>\n",
       "      <td>0</td>\n",
       "      <td>0</td>\n",
       "      <td>0</td>\n",
       "      <td>0</td>\n",
       "      <td>0</td>\n",
       "      <td>0</td>\n",
       "      <td>0</td>\n",
       "      <td>0</td>\n",
       "      <td>...</td>\n",
       "      <td>0</td>\n",
       "      <td>0</td>\n",
       "      <td>0</td>\n",
       "      <td>0</td>\n",
       "      <td>0</td>\n",
       "      <td>0</td>\n",
       "      <td>0</td>\n",
       "      <td>0</td>\n",
       "      <td>0</td>\n",
       "      <td>0</td>\n",
       "    </tr>\n",
       "    <tr>\n",
       "      <th>2</th>\n",
       "      <td>1</td>\n",
       "      <td>0</td>\n",
       "      <td>0</td>\n",
       "      <td>0</td>\n",
       "      <td>0</td>\n",
       "      <td>0</td>\n",
       "      <td>0</td>\n",
       "      <td>0</td>\n",
       "      <td>0</td>\n",
       "      <td>0</td>\n",
       "      <td>...</td>\n",
       "      <td>0</td>\n",
       "      <td>0</td>\n",
       "      <td>0</td>\n",
       "      <td>0</td>\n",
       "      <td>0</td>\n",
       "      <td>0</td>\n",
       "      <td>0</td>\n",
       "      <td>0</td>\n",
       "      <td>0</td>\n",
       "      <td>0</td>\n",
       "    </tr>\n",
       "    <tr>\n",
       "      <th>3</th>\n",
       "      <td>4</td>\n",
       "      <td>0</td>\n",
       "      <td>0</td>\n",
       "      <td>0</td>\n",
       "      <td>0</td>\n",
       "      <td>0</td>\n",
       "      <td>0</td>\n",
       "      <td>0</td>\n",
       "      <td>0</td>\n",
       "      <td>0</td>\n",
       "      <td>...</td>\n",
       "      <td>0</td>\n",
       "      <td>0</td>\n",
       "      <td>0</td>\n",
       "      <td>0</td>\n",
       "      <td>0</td>\n",
       "      <td>0</td>\n",
       "      <td>0</td>\n",
       "      <td>0</td>\n",
       "      <td>0</td>\n",
       "      <td>0</td>\n",
       "    </tr>\n",
       "    <tr>\n",
       "      <th>4</th>\n",
       "      <td>0</td>\n",
       "      <td>0</td>\n",
       "      <td>0</td>\n",
       "      <td>0</td>\n",
       "      <td>0</td>\n",
       "      <td>0</td>\n",
       "      <td>0</td>\n",
       "      <td>0</td>\n",
       "      <td>0</td>\n",
       "      <td>0</td>\n",
       "      <td>...</td>\n",
       "      <td>0</td>\n",
       "      <td>0</td>\n",
       "      <td>0</td>\n",
       "      <td>0</td>\n",
       "      <td>0</td>\n",
       "      <td>0</td>\n",
       "      <td>0</td>\n",
       "      <td>0</td>\n",
       "      <td>0</td>\n",
       "      <td>0</td>\n",
       "    </tr>\n",
       "  </tbody>\n",
       "</table>\n",
       "<p>5 rows × 785 columns</p>\n",
       "</div>"
      ],
      "text/plain": [
       "   label  pixel0  pixel1  pixel2  pixel3  pixel4  pixel5  pixel6  pixel7  \\\n",
       "0      1       0       0       0       0       0       0       0       0   \n",
       "1      0       0       0       0       0       0       0       0       0   \n",
       "2      1       0       0       0       0       0       0       0       0   \n",
       "3      4       0       0       0       0       0       0       0       0   \n",
       "4      0       0       0       0       0       0       0       0       0   \n",
       "\n",
       "   pixel8  ...  pixel774  pixel775  pixel776  pixel777  pixel778  pixel779  \\\n",
       "0       0  ...         0         0         0         0         0         0   \n",
       "1       0  ...         0         0         0         0         0         0   \n",
       "2       0  ...         0         0         0         0         0         0   \n",
       "3       0  ...         0         0         0         0         0         0   \n",
       "4       0  ...         0         0         0         0         0         0   \n",
       "\n",
       "   pixel780  pixel781  pixel782  pixel783  \n",
       "0         0         0         0         0  \n",
       "1         0         0         0         0  \n",
       "2         0         0         0         0  \n",
       "3         0         0         0         0  \n",
       "4         0         0         0         0  \n",
       "\n",
       "[5 rows x 785 columns]"
      ]
     },
     "execution_count": 2,
     "metadata": {},
     "output_type": "execute_result"
    }
   ],
   "source": [
    "train = pd.read_csv(\"../input/digit-recognizer/train.csv\")\n",
    "print(train.shape)\n",
    "print(train.dtypes)\n",
    "train.head()"
   ]
  },
  {
   "cell_type": "code",
   "execution_count": 3,
   "id": "5e958d38",
   "metadata": {
    "execution": {
     "iopub.execute_input": "2024-09-23T04:08:05.767155Z",
     "iopub.status.busy": "2024-09-23T04:08:05.766209Z",
     "iopub.status.idle": "2024-09-23T04:08:08.451349Z",
     "shell.execute_reply": "2024-09-23T04:08:08.450169Z"
    },
    "papermill": {
     "duration": 2.701259,
     "end_time": "2024-09-23T04:08:08.454959",
     "exception": false,
     "start_time": "2024-09-23T04:08:05.753700",
     "status": "completed"
    },
    "tags": []
   },
   "outputs": [
    {
     "name": "stdout",
     "output_type": "stream",
     "text": [
      "(28000, 784)\n"
     ]
    },
    {
     "data": {
      "text/html": [
       "<div>\n",
       "<style scoped>\n",
       "    .dataframe tbody tr th:only-of-type {\n",
       "        vertical-align: middle;\n",
       "    }\n",
       "\n",
       "    .dataframe tbody tr th {\n",
       "        vertical-align: top;\n",
       "    }\n",
       "\n",
       "    .dataframe thead th {\n",
       "        text-align: right;\n",
       "    }\n",
       "</style>\n",
       "<table border=\"1\" class=\"dataframe\">\n",
       "  <thead>\n",
       "    <tr style=\"text-align: right;\">\n",
       "      <th></th>\n",
       "      <th>label</th>\n",
       "      <th>pixel0</th>\n",
       "      <th>pixel1</th>\n",
       "      <th>pixel2</th>\n",
       "      <th>pixel3</th>\n",
       "      <th>pixel4</th>\n",
       "      <th>pixel5</th>\n",
       "      <th>pixel6</th>\n",
       "      <th>pixel7</th>\n",
       "      <th>pixel8</th>\n",
       "      <th>...</th>\n",
       "      <th>pixel774</th>\n",
       "      <th>pixel775</th>\n",
       "      <th>pixel776</th>\n",
       "      <th>pixel777</th>\n",
       "      <th>pixel778</th>\n",
       "      <th>pixel779</th>\n",
       "      <th>pixel780</th>\n",
       "      <th>pixel781</th>\n",
       "      <th>pixel782</th>\n",
       "      <th>pixel783</th>\n",
       "    </tr>\n",
       "  </thead>\n",
       "  <tbody>\n",
       "    <tr>\n",
       "      <th>0</th>\n",
       "      <td>1</td>\n",
       "      <td>0</td>\n",
       "      <td>0</td>\n",
       "      <td>0</td>\n",
       "      <td>0</td>\n",
       "      <td>0</td>\n",
       "      <td>0</td>\n",
       "      <td>0</td>\n",
       "      <td>0</td>\n",
       "      <td>0</td>\n",
       "      <td>...</td>\n",
       "      <td>0</td>\n",
       "      <td>0</td>\n",
       "      <td>0</td>\n",
       "      <td>0</td>\n",
       "      <td>0</td>\n",
       "      <td>0</td>\n",
       "      <td>0</td>\n",
       "      <td>0</td>\n",
       "      <td>0</td>\n",
       "      <td>0</td>\n",
       "    </tr>\n",
       "    <tr>\n",
       "      <th>1</th>\n",
       "      <td>0</td>\n",
       "      <td>0</td>\n",
       "      <td>0</td>\n",
       "      <td>0</td>\n",
       "      <td>0</td>\n",
       "      <td>0</td>\n",
       "      <td>0</td>\n",
       "      <td>0</td>\n",
       "      <td>0</td>\n",
       "      <td>0</td>\n",
       "      <td>...</td>\n",
       "      <td>0</td>\n",
       "      <td>0</td>\n",
       "      <td>0</td>\n",
       "      <td>0</td>\n",
       "      <td>0</td>\n",
       "      <td>0</td>\n",
       "      <td>0</td>\n",
       "      <td>0</td>\n",
       "      <td>0</td>\n",
       "      <td>0</td>\n",
       "    </tr>\n",
       "    <tr>\n",
       "      <th>2</th>\n",
       "      <td>1</td>\n",
       "      <td>0</td>\n",
       "      <td>0</td>\n",
       "      <td>0</td>\n",
       "      <td>0</td>\n",
       "      <td>0</td>\n",
       "      <td>0</td>\n",
       "      <td>0</td>\n",
       "      <td>0</td>\n",
       "      <td>0</td>\n",
       "      <td>...</td>\n",
       "      <td>0</td>\n",
       "      <td>0</td>\n",
       "      <td>0</td>\n",
       "      <td>0</td>\n",
       "      <td>0</td>\n",
       "      <td>0</td>\n",
       "      <td>0</td>\n",
       "      <td>0</td>\n",
       "      <td>0</td>\n",
       "      <td>0</td>\n",
       "    </tr>\n",
       "    <tr>\n",
       "      <th>3</th>\n",
       "      <td>4</td>\n",
       "      <td>0</td>\n",
       "      <td>0</td>\n",
       "      <td>0</td>\n",
       "      <td>0</td>\n",
       "      <td>0</td>\n",
       "      <td>0</td>\n",
       "      <td>0</td>\n",
       "      <td>0</td>\n",
       "      <td>0</td>\n",
       "      <td>...</td>\n",
       "      <td>0</td>\n",
       "      <td>0</td>\n",
       "      <td>0</td>\n",
       "      <td>0</td>\n",
       "      <td>0</td>\n",
       "      <td>0</td>\n",
       "      <td>0</td>\n",
       "      <td>0</td>\n",
       "      <td>0</td>\n",
       "      <td>0</td>\n",
       "    </tr>\n",
       "    <tr>\n",
       "      <th>4</th>\n",
       "      <td>0</td>\n",
       "      <td>0</td>\n",
       "      <td>0</td>\n",
       "      <td>0</td>\n",
       "      <td>0</td>\n",
       "      <td>0</td>\n",
       "      <td>0</td>\n",
       "      <td>0</td>\n",
       "      <td>0</td>\n",
       "      <td>0</td>\n",
       "      <td>...</td>\n",
       "      <td>0</td>\n",
       "      <td>0</td>\n",
       "      <td>0</td>\n",
       "      <td>0</td>\n",
       "      <td>0</td>\n",
       "      <td>0</td>\n",
       "      <td>0</td>\n",
       "      <td>0</td>\n",
       "      <td>0</td>\n",
       "      <td>0</td>\n",
       "    </tr>\n",
       "  </tbody>\n",
       "</table>\n",
       "<p>5 rows × 785 columns</p>\n",
       "</div>"
      ],
      "text/plain": [
       "   label  pixel0  pixel1  pixel2  pixel3  pixel4  pixel5  pixel6  pixel7  \\\n",
       "0      1       0       0       0       0       0       0       0       0   \n",
       "1      0       0       0       0       0       0       0       0       0   \n",
       "2      1       0       0       0       0       0       0       0       0   \n",
       "3      4       0       0       0       0       0       0       0       0   \n",
       "4      0       0       0       0       0       0       0       0       0   \n",
       "\n",
       "   pixel8  ...  pixel774  pixel775  pixel776  pixel777  pixel778  pixel779  \\\n",
       "0       0  ...         0         0         0         0         0         0   \n",
       "1       0  ...         0         0         0         0         0         0   \n",
       "2       0  ...         0         0         0         0         0         0   \n",
       "3       0  ...         0         0         0         0         0         0   \n",
       "4       0  ...         0         0         0         0         0         0   \n",
       "\n",
       "   pixel780  pixel781  pixel782  pixel783  \n",
       "0         0         0         0         0  \n",
       "1         0         0         0         0  \n",
       "2         0         0         0         0  \n",
       "3         0         0         0         0  \n",
       "4         0         0         0         0  \n",
       "\n",
       "[5 rows x 785 columns]"
      ]
     },
     "execution_count": 3,
     "metadata": {},
     "output_type": "execute_result"
    }
   ],
   "source": [
    "test = pd.read_csv('../input/digit-recognizer/test.csv')\n",
    "print(test.shape)\n",
    "train.head()"
   ]
  },
  {
   "cell_type": "code",
   "execution_count": 4,
   "id": "2a6bbf04",
   "metadata": {
    "execution": {
     "iopub.execute_input": "2024-09-23T04:08:08.480750Z",
     "iopub.status.busy": "2024-09-23T04:08:08.480177Z",
     "iopub.status.idle": "2024-09-23T04:08:08.622582Z",
     "shell.execute_reply": "2024-09-23T04:08:08.621283Z"
    },
    "papermill": {
     "duration": 0.159039,
     "end_time": "2024-09-23T04:08:08.625810",
     "exception": false,
     "start_time": "2024-09-23T04:08:08.466771",
     "status": "completed"
    },
    "tags": []
   },
   "outputs": [],
   "source": [
    "# put labels into y_train variable\n",
    "Y_train = train[\"label\"]\n",
    "# Drop 'label' column\n",
    "X_train = train.drop(labels = [\"label\"],axis = 1) \n"
   ]
  },
  {
   "cell_type": "code",
   "execution_count": 5,
   "id": "0d29241f",
   "metadata": {
    "execution": {
     "iopub.execute_input": "2024-09-23T04:08:08.652769Z",
     "iopub.status.busy": "2024-09-23T04:08:08.651405Z",
     "iopub.status.idle": "2024-09-23T04:08:08.660606Z",
     "shell.execute_reply": "2024-09-23T04:08:08.659388Z"
    },
    "papermill": {
     "duration": 0.025539,
     "end_time": "2024-09-23T04:08:08.663257",
     "exception": false,
     "start_time": "2024-09-23T04:08:08.637718",
     "status": "completed"
    },
    "tags": []
   },
   "outputs": [
    {
     "data": {
      "text/plain": [
       "'Y_train_count = Y_train.value_counts()\\nY_train_count = Y_train_count.sort_index()\\n\\nplt.figure(figsize=(15,7))\\ncolors = sns.color_palette(\"icefire\", n_colors=len(Y_train_count))\\nplt.bar(Y_train_count.index,Y_train_count.values, color=colors)\\nplt.title(\\'Number of digit classes\\')\\n\\nplt.xticks(ticks=Y_train_count.index)\\n\\nplt.tight_layout()\\nplt.show()'"
      ]
     },
     "execution_count": 5,
     "metadata": {},
     "output_type": "execute_result"
    }
   ],
   "source": [
    "'''Y_train_count = Y_train.value_counts()\n",
    "Y_train_count = Y_train_count.sort_index()\n",
    "\n",
    "plt.figure(figsize=(15,7))\n",
    "colors = sns.color_palette(\"icefire\", n_colors=len(Y_train_count))\n",
    "plt.bar(Y_train_count.index,Y_train_count.values, color=colors)\n",
    "plt.title('Number of digit classes')\n",
    "\n",
    "plt.xticks(ticks=Y_train_count.index)\n",
    "\n",
    "plt.tight_layout()\n",
    "plt.show()'''"
   ]
  },
  {
   "cell_type": "code",
   "execution_count": 6,
   "id": "2c120259",
   "metadata": {
    "execution": {
     "iopub.execute_input": "2024-09-23T04:08:08.690217Z",
     "iopub.status.busy": "2024-09-23T04:08:08.689192Z",
     "iopub.status.idle": "2024-09-23T04:08:09.115980Z",
     "shell.execute_reply": "2024-09-23T04:08:09.114744Z"
    },
    "papermill": {
     "duration": 0.443776,
     "end_time": "2024-09-23T04:08:09.119255",
     "exception": false,
     "start_time": "2024-09-23T04:08:08.675479",
     "status": "completed"
    },
    "tags": []
   },
   "outputs": [
    {
     "data": {
      "image/png": "[encoded data removed]",
      "text/plain": [
       "<Figure size 1000x500 with 1 Axes>"
      ]
     },
     "metadata": {},
     "output_type": "display_data"
    }
   ],
   "source": [
    "# Set the figure size\n",
    "plt.figure(figsize=(10, 5))\n",
    "\n",
    "# Plot the count plot with Seaborn, using the \"icefire\" color palette\n",
    "sns.countplot(x=Y_train, palette=\"icefire\")\n",
    "\n",
    "# Add title and labels\n",
    "plt.title(\"Number of Digit Classes\")\n",
    "plt.xlabel(\"Digit Classes\")\n",
    "plt.ylabel(\"Count\")\n",
    "\n",
    "# Ensure all x-axis labels (0-9) are shown\n",
    "plt.xticks(ticks=range(10), labels=range(10))\n",
    "\n",
    "# Show the plot\n",
    "plt.tight_layout()\n",
    "plt.show()\n"
   ]
  },
  {
   "cell_type": "code",
   "execution_count": 7,
   "id": "4ccb3984",
   "metadata": {
    "execution": {
     "iopub.execute_input": "2024-09-23T04:08:09.146885Z",
     "iopub.status.busy": "2024-09-23T04:08:09.145909Z",
     "iopub.status.idle": "2024-09-23T04:08:09.325171Z",
     "shell.execute_reply": "2024-09-23T04:08:09.323865Z"
    },
    "papermill": {
     "duration": 0.196138,
     "end_time": "2024-09-23T04:08:09.327969",
     "exception": false,
     "start_time": "2024-09-23T04:08:09.131831",
     "status": "completed"
    },
    "tags": []
   },
   "outputs": [
    {
     "data": {
      "image/png": "[encoded data removed]",
      "text/plain": [
       "<Figure size 640x480 with 1 Axes>"
      ]
     },
     "metadata": {},
     "output_type": "display_data"
    }
   ],
   "source": [
    "# plot some samples\n",
    "img = X_train.iloc[0].values\n",
    "img = img.reshape(28,28)\n",
    "plt.imshow(img,cmap='gray')\n",
    "plt.title(train.iloc[0,0])\n",
    "plt.axis(\"off\")\n",
    "plt.show()"
   ]
  },
  {
   "cell_type": "code",
   "execution_count": 8,
   "id": "73b2ea3d",
   "metadata": {
    "execution": {
     "iopub.execute_input": "2024-09-23T04:08:09.355650Z",
     "iopub.status.busy": "2024-09-23T04:08:09.355094Z",
     "iopub.status.idle": "2024-09-23T04:08:09.536159Z",
     "shell.execute_reply": "2024-09-23T04:08:09.534838Z"
    },
    "papermill": {
     "duration": 0.198548,
     "end_time": "2024-09-23T04:08:09.539186",
     "exception": false,
     "start_time": "2024-09-23T04:08:09.340638",
     "status": "completed"
    },
    "tags": []
   },
   "outputs": [
    {
     "data": {
      "image/png": "[encoded data removed]",
      "text/plain": [
       "<Figure size 640x480 with 1 Axes>"
      ]
     },
     "metadata": {},
     "output_type": "display_data"
    }
   ],
   "source": [
    "# plot some samples\n",
    "img = X_train.iloc[3].values\n",
    "img = img.reshape(28,28)\n",
    "plt.imshow(img,cmap='gray')\n",
    "plt.title(train.iloc[0,0])\n",
    "plt.axis(\"off\")\n",
    "plt.show()"
   ]
  },
  {
   "cell_type": "markdown",
   "id": "63071c5e",
   "metadata": {
    "papermill": {
     "duration": 0.01236,
     "end_time": "2024-09-23T04:08:09.564253",
     "exception": false,
     "start_time": "2024-09-23T04:08:09.551893",
     "status": "completed"
    },
    "tags": []
   },
   "source": [
    "# Normalization, Reshape and Label Encoding¶\n",
    "- Normalization\n",
    "    - We perform a grayscale normalization to reduce the effect of illumination's differences.\n",
    "    - If we perform normalization, CNN works faster.\n",
    "- Reshape\n",
    "    - Train and test images (28 x 28)\n",
    "    - We reshape all data to 28x28x1 3D matrices.\n",
    "    - Keras needs an extra dimension in the end which correspond to channels. Our images are gray scaled so it use only one channel.\n",
    "- Label Encoding\n",
    "    - Encode labels to one hot vectors\n",
    "        - 2 => [0,0,1,0,0,0,0,0,0,0]\n",
    "        - 4 => [0,0,0,0,1,0,0,0,0,0]"
   ]
  },
  {
   "cell_type": "code",
   "execution_count": 9,
   "id": "a65b0988",
   "metadata": {
    "execution": {
     "iopub.execute_input": "2024-09-23T04:08:09.592390Z",
     "iopub.status.busy": "2024-09-23T04:08:09.591795Z",
     "iopub.status.idle": "2024-09-23T04:08:09.747221Z",
     "shell.execute_reply": "2024-09-23T04:08:09.745838Z"
    },
    "papermill": {
     "duration": 0.172592,
     "end_time": "2024-09-23T04:08:09.749997",
     "exception": false,
     "start_time": "2024-09-23T04:08:09.577405",
     "status": "completed"
    },
    "tags": []
   },
   "outputs": [
    {
     "name": "stdout",
     "output_type": "stream",
     "text": [
      "X_train shape: (42000, 784)\n",
      "test shape: (28000, 784)\n"
     ]
    }
   ],
   "source": [
    "# Normalize the data\n",
    "X_train = X_train / 255\n",
    "test = test / 255\n",
    "print(f'X_train shape: {X_train.shape}')\n",
    "print(f'test shape: {test.shape}')"
   ]
  },
  {
   "cell_type": "markdown",
   "id": "7934d732",
   "metadata": {
    "papermill": {
     "duration": 0.012473,
     "end_time": "2024-09-23T04:08:09.775429",
     "exception": false,
     "start_time": "2024-09-23T04:08:09.762956",
     "status": "completed"
    },
    "tags": []
   },
   "source": [
    "Pixel Value Range: Image pixel values are typically in the range from 0 to 255 (for 8-bit images). Dividing by 255 scales these values to a range of 0 to 1. This helps standardize the input data, making it easier for the neural network to learn."
   ]
  },
  {
   "cell_type": "code",
   "execution_count": 10,
   "id": "2da8d33d",
   "metadata": {
    "execution": {
     "iopub.execute_input": "2024-09-23T04:08:09.803860Z",
     "iopub.status.busy": "2024-09-23T04:08:09.803361Z",
     "iopub.status.idle": "2024-09-23T04:08:09.811139Z",
     "shell.execute_reply": "2024-09-23T04:08:09.809920Z"
    },
    "papermill": {
     "duration": 0.026238,
     "end_time": "2024-09-23T04:08:09.814501",
     "exception": false,
     "start_time": "2024-09-23T04:08:09.788263",
     "status": "completed"
    },
    "tags": []
   },
   "outputs": [
    {
     "name": "stdout",
     "output_type": "stream",
     "text": [
      "X_train shape: (42000, 28, 28, 1)\n",
      "test shape: (28000, 28, 28, 1)\n"
     ]
    }
   ],
   "source": [
    "# Reshape\n",
    "X_train = X_train.values.reshape(-1,28,28,1)\n",
    "test = test.values.reshape(-1,28,28,1)\n",
    "print(f'X_train shape: {X_train.shape}')\n",
    "print(f'test shape: {test.shape}')"
   ]
  },
  {
   "cell_type": "markdown",
   "id": "bc10f066",
   "metadata": {
    "papermill": {
     "duration": 0.012847,
     "end_time": "2024-09-23T04:08:09.840911",
     "exception": false,
     "start_time": "2024-09-23T04:08:09.828064",
     "status": "completed"
    },
    "tags": []
   },
   "source": [
    "- -1 allows NumPy (or other libraries like TensorFlow or PyTorch) to automatically calculate the size of that dimension based on the total number of elements and the other specified dimensions\n",
    "- 1 represents the number of color channels (1 for grayscale images)"
   ]
  },
  {
   "cell_type": "code",
   "execution_count": 11,
   "id": "c760a6ca",
   "metadata": {
    "execution": {
     "iopub.execute_input": "2024-09-23T04:08:09.869963Z",
     "iopub.status.busy": "2024-09-23T04:08:09.868953Z",
     "iopub.status.idle": "2024-09-23T04:08:24.898636Z",
     "shell.execute_reply": "2024-09-23T04:08:24.897431Z"
    },
    "papermill": {
     "duration": 15.047503,
     "end_time": "2024-09-23T04:08:24.901841",
     "exception": false,
     "start_time": "2024-09-23T04:08:09.854338",
     "status": "completed"
    },
    "tags": []
   },
   "outputs": [],
   "source": [
    "# Label Encoding\n",
    "from tensorflow.keras.utils import to_categorical\n",
    "\n",
    "Y_train = to_categorical(Y_train, num_classes = 10)"
   ]
  },
  {
   "cell_type": "markdown",
   "id": "27003c6d",
   "metadata": {
    "papermill": {
     "duration": 0.012796,
     "end_time": "2024-09-23T04:08:24.928147",
     "exception": false,
     "start_time": "2024-09-23T04:08:24.915351",
     "status": "completed"
    },
    "tags": []
   },
   "source": [
    "### Train Test Split\n",
    "- We split the data into train and test sets.\n",
    "- test size is 10%.\n",
    "- train size is 90%."
   ]
  },
  {
   "cell_type": "code",
   "execution_count": 12,
   "id": "bc1625f2",
   "metadata": {
    "execution": {
     "iopub.execute_input": "2024-09-23T04:08:24.957184Z",
     "iopub.status.busy": "2024-09-23T04:08:24.955650Z",
     "iopub.status.idle": "2024-09-23T04:08:25.979257Z",
     "shell.execute_reply": "2024-09-23T04:08:25.977984Z"
    },
    "papermill": {
     "duration": 1.041129,
     "end_time": "2024-09-23T04:08:25.982080",
     "exception": false,
     "start_time": "2024-09-23T04:08:24.940951",
     "status": "completed"
    },
    "tags": []
   },
   "outputs": [
    {
     "name": "stdout",
     "output_type": "stream",
     "text": [
      "X_train shape: (34020, 28, 28, 1)\n",
      "X_val shape: (3780, 28, 28, 1)\n",
      "X_test shape: (4200, 28, 28, 1)\n",
      "Y_train shape: (34020, 10)\n",
      "Y_val shape: (3780, 10)\n",
      "Y_test shape: (4200, 10)\n"
     ]
    }
   ],
   "source": [
    "# Split the train and the validation set for the fitting\n",
    "from sklearn.model_selection import train_test_split\n",
    "\n",
    "# Split into training and test sets\n",
    "X_train, X_test, Y_train, Y_test = train_test_split(X_train, Y_train, test_size=0.1, random_state=2)\n",
    "# Futher split training set into training and vlaidaiton sets\n",
    "X_train, X_val, Y_train, Y_val = train_test_split(X_train, Y_train, test_size=0.1, random_state=2)\n",
    "\n",
    "print(f'X_train shape: {X_train.shape}')\n",
    "print(f'X_val shape: {X_val.shape}')\n",
    "print(f'X_test shape: {X_test.shape}')\n",
    "\n",
    "print(f'Y_train shape: {Y_train.shape}')\n",
    "print(f'Y_val shape: {Y_val.shape}')\n",
    "print(f'Y_test shape: {Y_test.shape}')"
   ]
  },
  {
   "cell_type": "code",
   "execution_count": 13,
   "id": "122c562e",
   "metadata": {
    "execution": {
     "iopub.execute_input": "2024-09-23T04:08:26.010308Z",
     "iopub.status.busy": "2024-09-23T04:08:26.009797Z",
     "iopub.status.idle": "2024-09-23T04:08:26.105999Z",
     "shell.execute_reply": "2024-09-23T04:08:26.104363Z"
    },
    "papermill": {
     "duration": 0.115095,
     "end_time": "2024-09-23T04:08:26.110337",
     "exception": false,
     "start_time": "2024-09-23T04:08:25.995242",
     "status": "completed"
    },
    "tags": []
   },
   "outputs": [
    {
     "data": {
      "image/png": "[encoded data removed]",
      "text/plain": [
       "<Figure size 640x480 with 1 Axes>"
      ]
     },
     "metadata": {},
     "output_type": "display_data"
    }
   ],
   "source": [
    "# Some examples\n",
    "plt.imshow(X_train[2][:,:,0], cmap='gray')\n",
    "plt.axis('off')\n",
    "plt.show()"
   ]
  },
  {
   "cell_type": "markdown",
   "id": "b39e0a02",
   "metadata": {
    "papermill": {
     "duration": 0.02567,
     "end_time": "2024-09-23T04:08:26.162658",
     "exception": false,
     "start_time": "2024-09-23T04:08:26.136988",
     "status": "completed"
    },
    "tags": []
   },
   "source": [
    "* CNN is used for image classification, object detection \n",
    "* <a href=\"https://ibb.co/kV1j9p\"><img src=\"https://preview.ibb.co/nRkBpp/gec2.jpg\" alt=\"gec2\" border=\"0\"></a>"
   ]
  },
  {
   "cell_type": "markdown",
   "id": "1f7a0edb",
   "metadata": {
    "papermill": {
     "duration": 0.012538,
     "end_time": "2024-09-23T04:08:26.197206",
     "exception": false,
     "start_time": "2024-09-23T04:08:26.184668",
     "status": "completed"
    },
    "tags": []
   },
   "source": [
    "<a id=\"11\"></a>\n",
    "### Create Model\n",
    "* conv => max pool => dropout => conv => max pool => dropout => fully connected (2 layer)\n",
    "* Dropout: Dropout is a technique where randomly selected neurons are ignored during training\n",
    "* <a href=\"https://ibb.co/jGcvVU\"><img src=\"https://preview.ibb.co/e7yPPp/dropout.jpg\" alt=\"dropout\" border=\"0\"></a>"
   ]
  },
  {
   "cell_type": "code",
   "execution_count": 14,
   "id": "548f9d35",
   "metadata": {
    "execution": {
     "iopub.execute_input": "2024-09-23T04:08:26.225507Z",
     "iopub.status.busy": "2024-09-23T04:08:26.224955Z",
     "iopub.status.idle": "2024-09-23T04:08:26.416993Z",
     "shell.execute_reply": "2024-09-23T04:08:26.415368Z"
    },
    "papermill": {
     "duration": 0.210028,
     "end_time": "2024-09-23T04:08:26.420085",
     "exception": false,
     "start_time": "2024-09-23T04:08:26.210057",
     "status": "completed"
    },
    "tags": []
   },
   "outputs": [],
   "source": [
    "from sklearn.metrics import confusion_matrix\n",
    "import itertools\n",
    "\n",
    "from keras.utils import to_categorical\n",
    "from keras.models import Sequential\n",
    "from keras.layers import Dense, Dropout, Flatten, Conv2D, MaxPool2D\n",
    "from keras.optimizers import RMSprop, Adam\n",
    "from tensorflow.keras.preprocessing.image import ImageDataGenerator\n",
    "from tensorflow.keras.callbacks import ReduceLROnPlateau\n",
    "\n",
    "model = Sequential()\n",
    "\n",
    "# First Convolution Layer\n",
    "model.add(Conv2D(filters = 8, kernel_size = (5,5), padding = 'Same',\n",
    "                 activation = 'relu', input_shape = (28,28,1)))\n",
    "# MaxPool2D\n",
    "model.add(MaxPool2D(pool_size=(2,2)))\n",
    "# Dropout\n",
    "model.add(Dropout(0.25))\n",
    "# Second Convolution Layer\n",
    "model.add(Conv2D(filters = 16, kernel_size = (3,3), padding = 'Same',\n",
    "                 activation = 'relu'))\n",
    "# MaxPool2D\n",
    "model.add(MaxPool2D(pool_size=(2,2), strides=(2,2)))\n",
    "# Dropout\n",
    "model.add(Dropout(0.25))\n",
    "\n",
    "# Fully Conencted\n",
    "model.add(Flatten())\n",
    "model.add(Dense(256, activation='relu'))\n",
    "model.add(Dropout(0.5))\n",
    "model.add(Dense(10, activation='softmax'))"
   ]
  },
  {
   "cell_type": "markdown",
   "id": "eedc9392",
   "metadata": {
    "papermill": {
     "duration": 0.012467,
     "end_time": "2024-09-23T04:08:26.445845",
     "exception": false,
     "start_time": "2024-09-23T04:08:26.433378",
     "status": "completed"
    },
    "tags": []
   },
   "source": [
    "<a id=\"12\"></a>\n",
    "### Define Optimizer   \n",
    "* Adam optimizer: Change the learning rate\n"
   ]
  },
  {
   "cell_type": "code",
   "execution_count": 15,
   "id": "b2e3d084",
   "metadata": {
    "execution": {
     "iopub.execute_input": "2024-09-23T04:08:26.474959Z",
     "iopub.status.busy": "2024-09-23T04:08:26.473844Z",
     "iopub.status.idle": "2024-09-23T04:08:26.486944Z",
     "shell.execute_reply": "2024-09-23T04:08:26.485977Z"
    },
    "papermill": {
     "duration": 0.030852,
     "end_time": "2024-09-23T04:08:26.489676",
     "exception": false,
     "start_time": "2024-09-23T04:08:26.458824",
     "status": "completed"
    },
    "tags": []
   },
   "outputs": [],
   "source": [
    "# Define the optimizer\n",
    "optimizer = Adam(learning_rate=0.001, beta_1=0.9, beta_2=0.999)"
   ]
  },
  {
   "cell_type": "markdown",
   "id": "744abd15",
   "metadata": {
    "papermill": {
     "duration": 0.01298,
     "end_time": "2024-09-23T04:08:26.515828",
     "exception": false,
     "start_time": "2024-09-23T04:08:26.502848",
     "status": "completed"
    },
    "tags": []
   },
   "source": [
    "<a id=\"13\"></a>\n",
    "### Compile Model\n",
    "* categorical crossentropy\n",
    "* We make binary cross entropy at previous parts and in machine learning tutorial\n",
    "* At this time we use categorical crossentropy. That means that we have multi class.\n",
    "* <a href=\"https://ibb.co/jm1bpp\"><img src=\"https://preview.ibb.co/nN3ZaU/cce.jpg\" alt=\"cce\" border=\"0\"></a>\n"
   ]
  },
  {
   "cell_type": "code",
   "execution_count": 16,
   "id": "6f819e3f",
   "metadata": {
    "execution": {
     "iopub.execute_input": "2024-09-23T04:08:26.545271Z",
     "iopub.status.busy": "2024-09-23T04:08:26.544257Z",
     "iopub.status.idle": "2024-09-23T04:08:26.556718Z",
     "shell.execute_reply": "2024-09-23T04:08:26.555329Z"
    },
    "papermill": {
     "duration": 0.030044,
     "end_time": "2024-09-23T04:08:26.559609",
     "exception": false,
     "start_time": "2024-09-23T04:08:26.529565",
     "status": "completed"
    },
    "tags": []
   },
   "outputs": [],
   "source": [
    "# Compile the model\n",
    "model.compile(optimizer = optimizer, loss='categorical_crossentropy', metrics=['accuracy'])"
   ]
  },
  {
   "cell_type": "markdown",
   "id": "346179b6",
   "metadata": {
    "papermill": {
     "duration": 0.012701,
     "end_time": "2024-09-23T04:08:26.585587",
     "exception": false,
     "start_time": "2024-09-23T04:08:26.572886",
     "status": "completed"
    },
    "tags": []
   },
   "source": [
    "<a id=\"14\"></a>\n",
    "### Epochs and Batch Size\n",
    "\n",
    "* Say you have a dataset of 10 examples (or samples). You have a **batch size** of 2, and you've specified you want the algorithm to run for 3 **epochs**. Therefore, in each epoch, you have 5 **batches** (10/2 = 5). Each batch gets passed through the algorithm, therefore you have 5 iterations **per epoch**.\n",
    "* reference: [StackOverflow - Epoch vs Iteration when training neural networks](https://stackoverflow.com/questions/4752626/epoch-vs-iteration-when-training-neural-networks)\n"
   ]
  },
  {
   "cell_type": "code",
   "execution_count": 17,
   "id": "aa322297",
   "metadata": {
    "execution": {
     "iopub.execute_input": "2024-09-23T04:08:26.615903Z",
     "iopub.status.busy": "2024-09-23T04:08:26.614630Z",
     "iopub.status.idle": "2024-09-23T04:08:26.620301Z",
     "shell.execute_reply": "2024-09-23T04:08:26.619297Z"
    },
    "papermill": {
     "duration": 0.023107,
     "end_time": "2024-09-23T04:08:26.622895",
     "exception": false,
     "start_time": "2024-09-23T04:08:26.599788",
     "status": "completed"
    },
    "tags": []
   },
   "outputs": [],
   "source": [
    "epochs = 10 # for better result increase the epochs\n",
    "batch_size = 250"
   ]
  },
  {
   "cell_type": "markdown",
   "id": "0bfd6ade",
   "metadata": {
    "papermill": {
     "duration": 0.012545,
     "end_time": "2024-09-23T04:08:26.648892",
     "exception": false,
     "start_time": "2024-09-23T04:08:26.636347",
     "status": "completed"
    },
    "tags": []
   },
   "source": [
    "<a id=\"15\"></a>\n",
    "### Data Augmentation\n",
    "* To avoid overfitting problem, we need to expand artificially our handwritten digit dataset\n",
    "* Alter the training data with small transformations to reproduce the variations of digit.\n",
    "* For example, the number is not centered The scale is not the same (some who write with big/small numbers) The image is rotated.\n",
    "* <a href=\"https://ibb.co/k24CUp\"><img src=\"https://preview.ibb.co/nMxXUp/augment.jpg\" alt=\"augment\" border=\"0\"></a>\n",
    "    \n"
   ]
  },
  {
   "cell_type": "code",
   "execution_count": 18,
   "id": "e75c52de",
   "metadata": {
    "execution": {
     "iopub.execute_input": "2024-09-23T04:08:26.677565Z",
     "iopub.status.busy": "2024-09-23T04:08:26.676540Z",
     "iopub.status.idle": "2024-09-23T04:08:26.822340Z",
     "shell.execute_reply": "2024-09-23T04:08:26.820967Z"
    },
    "papermill": {
     "duration": 0.163526,
     "end_time": "2024-09-23T04:08:26.825477",
     "exception": false,
     "start_time": "2024-09-23T04:08:26.661951",
     "status": "completed"
    },
    "tags": []
   },
   "outputs": [],
   "source": [
    "# data augmentation\n",
    "datagen = ImageDataGenerator(\n",
    "        featurewise_center=False,  # set input mean to 0 over the dataset\n",
    "        samplewise_center=False,  # set each sample mean to 0\n",
    "        featurewise_std_normalization=False,  # divide inputs by std of the dataset\n",
    "        samplewise_std_normalization=False,  # divide each input by its std\n",
    "        zca_whitening=False,  # dimesion reduction\n",
    "        rotation_range=5,  # randomly rotate images in the range 5 degrees\n",
    "        zoom_range = 0.1, # Randomly zoom image 10%\n",
    "        width_shift_range=0.1,  # randomly shift images horizontally 10%\n",
    "        height_shift_range=0.1,  # randomly shift images vertically 10%\n",
    "        horizontal_flip=False,  # randomly flip images\n",
    "        vertical_flip=False)  # randomly flip images\n",
    "\n",
    "datagen.fit(X_train)"
   ]
  },
  {
   "cell_type": "markdown",
   "id": "2414878d",
   "metadata": {
    "papermill": {
     "duration": 0.012773,
     "end_time": "2024-09-23T04:08:26.851481",
     "exception": false,
     "start_time": "2024-09-23T04:08:26.838708",
     "status": "completed"
    },
    "tags": []
   },
   "source": [
    "<a id=\"16\"></a>\n",
    "### Fit the model"
   ]
  },
  {
   "cell_type": "code",
   "execution_count": 19,
   "id": "b99fae01",
   "metadata": {
    "execution": {
     "iopub.execute_input": "2024-09-23T04:08:26.880041Z",
     "iopub.status.busy": "2024-09-23T04:08:26.879003Z",
     "iopub.status.idle": "2024-09-23T04:10:08.760293Z",
     "shell.execute_reply": "2024-09-23T04:10:08.758863Z"
    },
    "papermill": {
     "duration": 101.899021,
     "end_time": "2024-09-23T04:10:08.763508",
     "exception": false,
     "start_time": "2024-09-23T04:08:26.864487",
     "status": "completed"
    },
    "tags": []
   },
   "outputs": [
    {
     "name": "stdout",
     "output_type": "stream",
     "text": [
      "Epoch 1/10\n",
      "\u001b[1m136/136\u001b[0m \u001b[32m━━━━━━━━━━━━━━━━━━━━\u001b[0m\u001b[37m\u001b[0m \u001b[1m21s\u001b[0m 135ms/step - accuracy: 0.4284 - loss: 1.6508 - val_accuracy: 0.9365 - val_loss: 0.2428\n",
      "Epoch 2/10\n",
      "\u001b[1m136/136\u001b[0m \u001b[32m━━━━━━━━━━━━━━━━━━━━\u001b[0m\u001b[37m\u001b[0m \u001b[1m1s\u001b[0m 5ms/step - accuracy: 0.8240 - loss: 0.6157 - val_accuracy: 0.9370 - val_loss: 0.2428\n",
      "Epoch 3/10\n",
      "\u001b[1m136/136\u001b[0m \u001b[32m━━━━━━━━━━━━━━━━━━━━\u001b[0m\u001b[37m\u001b[0m \u001b[1m19s\u001b[0m 136ms/step - accuracy: 0.8328 - loss: 0.5333 - val_accuracy: 0.9598 - val_loss: 0.1390\n",
      "Epoch 4/10\n",
      "\u001b[1m136/136\u001b[0m \u001b[32m━━━━━━━━━━━━━━━━━━━━\u001b[0m\u001b[37m\u001b[0m \u001b[1m1s\u001b[0m 5ms/step - accuracy: 0.8560 - loss: 0.4434 - val_accuracy: 0.9590 - val_loss: 0.1400\n",
      "Epoch 5/10\n",
      "\u001b[1m136/136\u001b[0m \u001b[32m━━━━━━━━━━━━━━━━━━━━\u001b[0m\u001b[37m\u001b[0m \u001b[1m19s\u001b[0m 137ms/step - accuracy: 0.8849 - loss: 0.3645 - val_accuracy: 0.9661 - val_loss: 0.1162\n",
      "Epoch 6/10\n",
      "\u001b[1m136/136\u001b[0m \u001b[32m━━━━━━━━━━━━━━━━━━━━\u001b[0m\u001b[37m\u001b[0m \u001b[1m1s\u001b[0m 6ms/step - accuracy: 0.9280 - loss: 0.3112 - val_accuracy: 0.9653 - val_loss: 0.1148\n",
      "Epoch 7/10\n",
      "\u001b[1m136/136\u001b[0m \u001b[32m━━━━━━━━━━━━━━━━━━━━\u001b[0m\u001b[37m\u001b[0m \u001b[1m19s\u001b[0m 133ms/step - accuracy: 0.9099 - loss: 0.2899 - val_accuracy: 0.9677 - val_loss: 0.1034\n",
      "Epoch 8/10\n",
      "\u001b[1m136/136\u001b[0m \u001b[32m━━━━━━━━━━━━━━━━━━━━\u001b[0m\u001b[37m\u001b[0m \u001b[1m1s\u001b[0m 6ms/step - accuracy: 0.9320 - loss: 0.3027 - val_accuracy: 0.9696 - val_loss: 0.1015\n",
      "Epoch 9/10\n",
      "\u001b[1m136/136\u001b[0m \u001b[32m━━━━━━━━━━━━━━━━━━━━\u001b[0m\u001b[37m\u001b[0m \u001b[1m19s\u001b[0m 136ms/step - accuracy: 0.9176 - loss: 0.2617 - val_accuracy: 0.9765 - val_loss: 0.0851\n",
      "Epoch 10/10\n",
      "\u001b[1m136/136\u001b[0m \u001b[32m━━━━━━━━━━━━━━━━━━━━\u001b[0m\u001b[37m\u001b[0m \u001b[1m1s\u001b[0m 6ms/step - accuracy: 0.9320 - loss: 0.2508 - val_accuracy: 0.9759 - val_loss: 0.0848\n"
     ]
    }
   ],
   "source": [
    "# Fit the model\n",
    "history = model.fit(datagen.flow(X_train,Y_train, batch_size=batch_size),\n",
    "                              epochs = epochs, validation_data = (X_val,Y_val), steps_per_epoch=X_train.shape[0] // batch_size)"
   ]
  },
  {
   "cell_type": "markdown",
   "id": "c7f56d7e",
   "metadata": {
    "papermill": {
     "duration": 0.080359,
     "end_time": "2024-09-23T04:10:08.928133",
     "exception": false,
     "start_time": "2024-09-23T04:10:08.847774",
     "status": "completed"
    },
    "tags": []
   },
   "source": [
    "<a id=\"17\"></a>\n",
    "### Evaluate the model\n",
    "* Test Loss visualization\n",
    "* Confusion matrix\n"
   ]
  },
  {
   "cell_type": "code",
   "execution_count": 20,
   "id": "881d0748",
   "metadata": {
    "execution": {
     "iopub.execute_input": "2024-09-23T04:10:09.094737Z",
     "iopub.status.busy": "2024-09-23T04:10:09.093755Z",
     "iopub.status.idle": "2024-09-23T04:10:09.433479Z",
     "shell.execute_reply": "2024-09-23T04:10:09.432181Z"
    },
    "papermill": {
     "duration": 0.427726,
     "end_time": "2024-09-23T04:10:09.436696",
     "exception": false,
     "start_time": "2024-09-23T04:10:09.008970",
     "status": "completed"
    },
    "tags": []
   },
   "outputs": [
    {
     "data": {
      "image/png": "[encoded data removed]",
      "text/plain": [
       "<Figure size 640x480 with 1 Axes>"
      ]
     },
     "metadata": {},
     "output_type": "display_data"
    }
   ],
   "source": [
    "# Plot the loss and accuracy curves for training and validation \n",
    "plt.plot(history.history['val_loss'], color='b', label=\"validation loss\")\n",
    "plt.title(\"Test Loss\")\n",
    "plt.xlabel(\"Number of Epochs\")\n",
    "plt.ylabel(\"Loss\")\n",
    "plt.legend()\n",
    "plt.show()"
   ]
  },
  {
   "cell_type": "code",
   "execution_count": 21,
   "id": "c3e677fe",
   "metadata": {
    "execution": {
     "iopub.execute_input": "2024-09-23T04:10:09.601605Z",
     "iopub.status.busy": "2024-09-23T04:10:09.601018Z",
     "iopub.status.idle": "2024-09-23T04:10:11.376029Z",
     "shell.execute_reply": "2024-09-23T04:10:11.374693Z"
    },
    "papermill": {
     "duration": 1.86087,
     "end_time": "2024-09-23T04:10:11.379264",
     "exception": false,
     "start_time": "2024-09-23T04:10:09.518394",
     "status": "completed"
    },
    "tags": []
   },
   "outputs": [
    {
     "name": "stdout",
     "output_type": "stream",
     "text": [
      "\u001b[1m119/119\u001b[0m \u001b[32m━━━━━━━━━━━━━━━━━━━━\u001b[0m\u001b[37m\u001b[0m \u001b[1m1s\u001b[0m 7ms/step\n"
     ]
    },
    {
     "data": {
      "image/png": "[encoded data removed]",
      "text/plain": [
       "<Figure size 800x800 with 2 Axes>"
      ]
     },
     "metadata": {},
     "output_type": "display_data"
    }
   ],
   "source": [
    "# confusion matrix\n",
    "import seaborn as sns\n",
    "# Predict the values from the validation dataset\n",
    "Y_pred = model.predict(X_val)\n",
    "# Convert predictions classes to one hot vectors \n",
    "Y_pred_classes = np.argmax(Y_pred,axis = 1) \n",
    "# Convert validation observations to one hot vectors\n",
    "Y_true = np.argmax(Y_val,axis = 1) \n",
    "# compute the confusion matrix\n",
    "confusion_mtx = confusion_matrix(Y_true, Y_pred_classes) \n",
    "# plot the confusion matrix\n",
    "f,ax = plt.subplots(figsize=(8, 8))\n",
    "sns.heatmap(confusion_mtx, annot=True, linewidths=0.01,cmap=\"Greens\",linecolor=\"gray\", fmt= '.1f',ax=ax)\n",
    "plt.xlabel(\"Predicted Label\")\n",
    "plt.ylabel(\"True Label\")\n",
    "plt.title(\"Confusion Matrix\")\n",
    "plt.show()"
   ]
  }
 ],
 "metadata": {
  "kaggle": {
   "accelerator": "none",
   "dataSources": [
    {
     "databundleVersionId": 861823,
     "sourceId": 3004,
     "sourceType": "competition"
    }
   ],
   "dockerImageVersionId": 30761,
   "isGpuEnabled": false,
   "isInternetEnabled": true,
   "language": "python",
   "sourceType": "notebook"
  },
  "kernelspec": {
   "display_name": "Python 3",
   "language": "python",
   "name": "python3"
  },
  "language_info": {
   "codemirror_mode": {
    "name": "ipython",
    "version": 3
   },
   "file_extension": ".py",
   "mimetype": "text/x-python",
   "name": "python",
   "nbconvert_exporter": "python",
   "pygments_lexer": "ipython3",
   "version": "3.10.14"
  },
  "papermill": {
   "default_parameters": {},
   "duration": 139.983437,
   "end_time": "2024-09-23T04:10:14.662380",
   "environment_variables": {},
   "exception": null,
   "input_path": "__notebook__.ipynb",
   "output_path": "__notebook__.ipynb",
   "parameters": {},
   "start_time": "2024-09-23T04:07:54.678943",
   "version": "2.6.0"
  }
 },
 "nbformat": 4,
 "nbformat_minor": 5
}
